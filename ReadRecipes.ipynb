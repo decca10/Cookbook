{
 "cells": [
  {
   "cell_type": "code",
   "execution_count": 1,
   "metadata": {},
   "outputs": [],
   "source": [
    "import openai\n",
    "import os\n",
    "\n",
    "import requests\n",
    "from bs4 import BeautifulSoup\n",
    "\n",
    "from PIL import Image\n",
    "\n",
    "from dotenv import load_dotenv, find_dotenv\n",
    "_ = load_dotenv(find_dotenv())\n",
    "\n",
    "openai.api_key  = os.getenv('OPENAI_API_KEY')"
   ]
  },
  {
   "cell_type": "code",
   "execution_count": 2,
   "metadata": {},
   "outputs": [],
   "source": [
    "def get_completion(prompt, model=\"gpt-3.5-turbo\"):\n",
    "    messages = [{\"role\": \"user\", \"content\": prompt}]\n",
    "    response = openai.ChatCompletion.create(\n",
    "        model=model,\n",
    "        messages=messages,\n",
    "        temperature=0, # this is the degree of randomness of the model's output\n",
    "    )\n",
    "    return response.choices[0].message[\"content\"]"
   ]
  },
  {
   "cell_type": "code",
   "execution_count": 3,
   "metadata": {},
   "outputs": [],
   "source": [
    "url = input(\"Enter URL for recipe: \") "
   ]
  },
  {
   "cell_type": "code",
   "execution_count": 4,
   "metadata": {},
   "outputs": [
    {
     "name": "stdout",
     "output_type": "stream",
     "text": [
      "Pumpkin Spice Protein Bars Recipe\n",
      "Ingredients:\n",
      "- 1 cup pumpkin puree\n",
      "- 1/2 cup almond butter\n",
      "- 1/4 cup maple syrup\n",
      "- 2 scoops vanilla protein powder\n",
      "- 1/2 cup almond flour\n",
      "- 1/4 cup ground flaxseed\n",
      "- 1 teaspoon pumpkin pie spice\n",
      "- 1/2 teaspoon cinnamon\n",
      "- 1/4 teaspoon salt\n",
      "- 1/2 cup dark chocolate chips\n",
      "\n",
      "Instructions:\n",
      "1. Preheat the oven to 350°F (175°C) and line a baking dish with parchment paper.\n",
      "2. In a large mixing bowl, combine the pumpkin puree, almond butter, and maple syrup. Mix well until smooth.\n",
      "3. Add the vanilla protein powder, almond flour, ground flaxseed, pumpkin pie spice, cinnamon, and salt to the bowl. Stir until all the ingredients are well combined.\n",
      "4. Fold in the dark chocolate chips.\n",
      "5. Pour the mixture into the prepared baking dish and spread it evenly.\n",
      "6. Bake in the preheated oven for 25-30 minutes, or until the edges are golden brown and a toothpick inserted into the center comes out clean.\n",
      "7. Remove from the oven and let it cool completely before cutting into bars.\n",
      "8. Store the pumpkin spice protein bars in an airtight container in the refrigerator for up to one week.\n",
      "\n",
      "Notes:\n",
      "For a vegan version, use a plant-based protein powder and dairy-free chocolate chips.\n"
     ]
    }
   ],
   "source": [
    "#url = 'https://thehiddenveggies.com/silken-tofu-pasta-sauce/'\n",
    "text = f\"\"\"\n",
    "Visit the website at the following URL: {url}\n",
    "\"\"\"\n",
    "prompt = f\"\"\"\n",
    "From the text below, please understand it as an article that describes a recipe.  \n",
    "The first line should be: \"<recipe name>\". Next comes the ingredient list in the form of \"Ingredients:\" followed by \n",
    "each line should contain one ingredient and it's amount in the format\n",
    "\"<ingredient>: <amount>\". The ingredient part (before the semicolon) should contain only the ingredient name, not the amount.\n",
    "Next is the \"Instructions:\" section.  Each line should be a numbered list for each step.  And lastly, there may be a notes section. \n",
    "If there is it should be titled \"Notes:\" with a paragraph after.\n",
    "      The text is: \n",
    "```{text}```\n",
    "\"\"\"\n",
    "response = get_completion(prompt)\n",
    "print(response)"
   ]
  },
  {
   "cell_type": "code",
   "execution_count": null,
   "metadata": {},
   "outputs": [],
   "source": [
    "\n",
    "with open(os.path.join(\"/Users/melsmac/Desktop/Portfolio Proj/Cookbook/PrintedRecipes\",response.split('\\n')[0]+\".md\"), \"w\") as file:\n",
    "    file.write(response)"
   ]
  },
  {
   "cell_type": "code",
   "execution_count": 28,
   "metadata": {},
   "outputs": [],
   "source": [
    "import requests\n",
    "from PIL import Image\n",
    "from io import BytesIO\n",
    "import openai\n",
    "\n",
    "def generate(text):\n",
    "    res = openai.Image.create(\n",
    "        prompt=text,\n",
    "        n=1,\n",
    "        size=\"256x256\",\n",
    "    )\n",
    "    # Check if the response contains a valid image URL\n",
    "    if \"data\" in res and res[\"data\"] and \"url\" in res[\"data\"][0]:\n",
    "        return res[\"data\"][0][\"url\"]\n",
    "    else:\n",
    "        return None\n",
    "\n",
    "# Call the custom function \"generate\"\n",
    "url1 = generate(response)\n",
    "\n",
    "if url1:\n",
    "    # Use requests library to get the image in bytes\n",
    "    response = requests.get(url1)\n",
    "    try:\n",
    "        # Use the Image module from PIL library to view the image\n",
    "        img = Image.open(BytesIO(response.content))\n",
    "        img.show()\n",
    "    except UnidentifiedImageError as e:\n",
    "        print(f\"Error: Unable to open the image. The URL might not contain a valid image.\")\n",
    "else:\n",
    "    print(\"Error: The API response did not contain a valid image URL.\")\n"
   ]
  },
  {
   "cell_type": "code",
   "execution_count": null,
   "metadata": {},
   "outputs": [],
   "source": []
  }
 ],
 "metadata": {
  "kernelspec": {
   "display_name": "Python 3",
   "language": "python",
   "name": "python3"
  },
  "language_info": {
   "codemirror_mode": {
    "name": "ipython",
    "version": 3
   },
   "file_extension": ".py",
   "mimetype": "text/x-python",
   "name": "python",
   "nbconvert_exporter": "python",
   "pygments_lexer": "ipython3",
   "version": "3.11.4"
  }
 },
 "nbformat": 4,
 "nbformat_minor": 2
}
