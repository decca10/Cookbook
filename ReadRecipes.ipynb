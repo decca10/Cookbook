{
 "cells": [
  {
   "cell_type": "code",
   "execution_count": 9,
   "metadata": {},
   "outputs": [],
   "source": [
    "import openai\n",
    "import os\n",
    "\n",
    "import requests\n",
    "from bs4 import BeautifulSoup\n",
    "\n",
    "from dotenv import load_dotenv, find_dotenv\n",
    "_ = load_dotenv(find_dotenv())\n",
    "\n",
    "openai.api_key  = os.getenv('OPENAI_API_KEY')"
   ]
  },
  {
   "cell_type": "code",
   "execution_count": 6,
   "metadata": {},
   "outputs": [],
   "source": [
    "def get_completion(prompt, model=\"gpt-3.5-turbo\"):\n",
    "    messages = [{\"role\": \"user\", \"content\": prompt}]\n",
    "    response = openai.ChatCompletion.create(\n",
    "        model=model,\n",
    "        messages=messages,\n",
    "        temperature=0, # this is the degree of randomness of the model's output\n",
    "    )\n",
    "    return response.choices[0].message[\"content\"]"
   ]
  },
  {
   "cell_type": "code",
   "execution_count": 10,
   "metadata": {},
   "outputs": [
    {
     "name": "stdout",
     "output_type": "stream",
     "text": [
      "Recipe Text: \n",
      "5 from 22 votes\n",
      "\n",
      "\n",
      " Print Recipe\n",
      "\n",
      "Silken Tofu Pasta Sauce\n",
      "\n",
      "A rich and creamy vegan alfredo-style pasta sauce made from silken tofu.\n",
      "\n",
      "Prep Time10 minutes minsCook Time10 minutes minsTotal Time20 minutes mins\n",
      "\n",
      "Course: sauceCuisine: AmericanKeyword: silken tofu pasta sauce, tofu alfredo, tofu pasta sauce\n",
      "Servings: 8\n",
      "Calories: 291kcal\n",
      "Author: Monica Davis\n",
      "EquipmentBlender\n",
      "Ingredients1 (16 oz package) pastaSilken tofu pasta sauce1 (12.3 oz block) silken tofu1 medium onion (about 1 cup diced)3 cloves garlic3 tablespoons olive oil1 tablespoon nutritional yeast1 tablespoon lemon juice1 1/2 cups pasta water1 teaspoon salt (divided)1/4 teaspoon pepper (or red pepper flakes)US Customary - Metric\n",
      "InstructionsCook your pasta of choice according to package directions. (Reserve 1 1/2 cups of the cooking water.)While your pasta is cooking, peel and dice an onion and mince 3 cloves of garlic.  Then saute them over low heat in 3 tablespoons of olive oil with a sprinkle of salt (1/4 tsp) until they turn translucent.Cut open the package of silken tofu and drain off any excess water then add the tofu to the blender. (There is no need to press silken tofu.)  Then add the sauteed onion and garlic, 1 tbsp nutritional yeast, 1 tbsp lemon juice, 3/4 tsp salt, and 1/4 tsp pepper.Add 1 cup of the starchy pasta water to the blender and blend until smooth.  Add an additional 1/2 cup of the pasta water and blend again until very smooth.Pour the tofu cream sauce back into the frying pan used to saute the onions and warm it over low heat.  Add salt and pepper to taste.Toss in the cooked drained pasta and stir to coat the pasta in the sauce and serve hot. Garnish with fresh parsley if desired.\n",
      "Video\n",
      "Notes\n",
      "Saute the onion and garlic over low heat to bring out the sweetness of the onion and to ensure you don't burn them.\n",
      "The sauce will thicken slightly as it cools, so you want it to be fairly thin when it's hot.\n",
      "\n",
      "NutritionServing: 1cup pasta with sauce | Calories: 291kcal | Carbohydrates: 46g | Protein: 10g | Fat: 7g | Saturated Fat: 1g | Polyunsaturated Fat: 2g | Monounsaturated Fat: 4g | Sodium: 299mg | Potassium: 251mg | Fiber: 2g | Sugar: 3g | Vitamin A: 1IU | Vitamin C: 2mg | Calcium: 33mg | Iron: 1mg\n"
     ]
    }
   ],
   "source": [
    "def scrape_recipe_text(url):\n",
    "    try:\n",
    "        # Send an HTTP GET request to the URL\n",
    "        response = requests.get(url)\n",
    "\n",
    "        # Check if the request was successful (status code 200)\n",
    "        if response.status_code == 200:\n",
    "            # Parse the HTML content of the page using BeautifulSoup\n",
    "            soup = BeautifulSoup(response.text, 'html.parser')\n",
    "\n",
    "            # Find the HTML element that contains the recipe section\n",
    "            # You will need to inspect the website's HTML structure to determine the appropriate tags and attributes\n",
    "            recipe_section = soup.find('div', class_='wprm-recipe-container')\n",
    "\n",
    "            if recipe_section:\n",
    "                # Extract and return the text from the recipe section\n",
    "                recipe_text = recipe_section.get_text()\n",
    "                return f\"Recipe Text: {recipe_text}\"\n",
    "            else:\n",
    "                return \"Recipe section not found on the page.\"\n",
    "        else:\n",
    "            return f\"Failed to retrieve the webpage. Status code: {response.status_code}\"\n",
    "    except Exception as e:\n",
    "        return f\"An error occurred: {str(e)}\"\n",
    "\n",
    "# Example usage:\n",
    "url = 'https://thehiddenveggies.com/silken-tofu-pasta-sauce/'\n",
    "recipe_text = scrape_recipe_text(url)\n",
    "print(recipe_text)\n"
   ]
  },
  {
   "cell_type": "code",
   "execution_count": 14,
   "metadata": {},
   "outputs": [
    {
     "name": "stdout",
     "output_type": "stream",
     "text": [
      "No recipe provided.\n"
     ]
    }
   ],
   "source": [
    "url = 'https://thehiddenveggies.com/silken-tofu-pasta-sauce/'\n",
    "text = f\"\"\"\n",
    "Visit the website at the following URL: {url}\n",
    "\"\"\"\n",
    "prompt = f\"\"\"\n",
    "You will be visiting a website that has a formatted recipe near the bottom within a bounding box.\\ \n",
    "There will be an Ingredients header and an Instructions header./\n",
    "Rewrite the recipe in the following format:\n",
    "\n",
    "Ingredients:\n",
    "- Ingredient 1...\n",
    "- Ingredient 2…\n",
    "…\n",
    "- Ingredient N…\n",
    "\n",
    "Instructions:\n",
    "Step 1 - ...\n",
    "Step 2 - …\n",
    "…\n",
    "Step N - …\n",
    "\n",
    "If the text does not contain a recipe, \\ \n",
    "then simply write \\\"No recipe provided.\\\n",
    "```{text}```\n",
    "\"\"\"\n",
    "response = get_completion(prompt)\n",
    "print(response)"
   ]
  },
  {
   "cell_type": "code",
   "execution_count": null,
   "metadata": {},
   "outputs": [],
   "source": []
  }
 ],
 "metadata": {
  "kernelspec": {
   "display_name": "Python 3",
   "language": "python",
   "name": "python3"
  },
  "language_info": {
   "codemirror_mode": {
    "name": "ipython",
    "version": 3
   },
   "file_extension": ".py",
   "mimetype": "text/x-python",
   "name": "python",
   "nbconvert_exporter": "python",
   "pygments_lexer": "ipython3",
   "version": "3.8.5"
  }
 },
 "nbformat": 4,
 "nbformat_minor": 2
}
