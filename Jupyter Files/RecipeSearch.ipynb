{
 "cells": [
  {
   "cell_type": "code",
   "execution_count": 13,
   "metadata": {},
   "outputs": [
    {
     "name": "stdout",
     "output_type": "stream",
     "text": [
      "No matching files found.\n"
     ]
    }
   ],
   "source": [
    "import os\n",
    "import re\n",
    "\n",
    "# Function to search for attributes in Markdown files\n",
    "def search_markdown_files(directory, attribute):\n",
    "    matching_files = []\n",
    "\n",
    "    # Define the attribute pattern\n",
    "    attribute_pattern = re.compile(fr\"{attribute}\\s*:\\s*(.+)\")\n",
    "\n",
    "    # Walk through the directory and its subdirectories\n",
    "    for root, dirs, files in os.walk(directory):\n",
    "        for file in files:\n",
    "            if file.endswith(\".md\"):\n",
    "                file_path = os.path.join(root, file)\n",
    "\n",
    "                # Read the contents of the Markdown file\n",
    "                with open(file_path, \"r\", encoding=\"utf-8\") as f:\n",
    "                    content = f.read()\n",
    "\n",
    "                # Search for the specified attribute in the file content\n",
    "                match = attribute_pattern.search(content)\n",
    "                if match:\n",
    "                    attribute_value = match.group(1)\n",
    "\n",
    "                    # If the attribute matches the user input, add the file to the list\n",
    "                    if attribute_value == user_input:\n",
    "                        matching_files.append(file_path)\n",
    "\n",
    "    return matching_files\n",
    "\n",
    "# Ask the user for the attribute to search for\n",
    "user_input = input(\"Enter the attribute you want to search for: \")\n",
    "\n",
    "# Define the directory where you want to search for Markdown files\n",
    "search_directory = \"/Users/melsmac/Desktop/Portfolio Proj/Cookbook/PrintedRecipes\" # Replace with the actual directory path\n",
    "\n",
    "# Call the search function\n",
    "matching_files = search_markdown_files(search_directory, user_input)\n",
    "\n",
    "# Display the list of matching files\n",
    "if matching_files:\n",
    "    print(\"Matching files:\")\n",
    "    for file in matching_files:\n",
    "        print(file)\n",
    "else:\n",
    "    print(\"No matching files found.\")\n"
   ]
  },
  {
   "cell_type": "code",
   "execution_count": null,
   "metadata": {},
   "outputs": [],
   "source": []
  }
 ],
 "metadata": {
  "kernelspec": {
   "display_name": "Python 3",
   "language": "python",
   "name": "python3"
  },
  "language_info": {
   "codemirror_mode": {
    "name": "ipython",
    "version": 3
   },
   "file_extension": ".py",
   "mimetype": "text/x-python",
   "name": "python",
   "nbconvert_exporter": "python",
   "pygments_lexer": "ipython3",
   "version": "3.11.4"
  }
 },
 "nbformat": 4,
 "nbformat_minor": 2
}
