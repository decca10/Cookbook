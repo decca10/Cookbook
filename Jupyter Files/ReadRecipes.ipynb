{
 "cells": [
  {
   "cell_type": "code",
   "execution_count": 3,
   "metadata": {},
   "outputs": [],
   "source": [
    "import openai\n",
    "import os\n",
    "\n",
    "import streamlit as st\n",
    "import requests\n",
    "from bs4 import BeautifulSoup\n",
    "\n",
    "from PIL import Image\n",
    "\n",
    "from dotenv import load_dotenv, find_dotenv\n",
    "_ = load_dotenv(find_dotenv())\n",
    "\n",
    "openai.api_key  = os.getenv('OPENAI_API_KEY')"
   ]
  },
  {
   "cell_type": "code",
   "execution_count": 4,
   "metadata": {},
   "outputs": [],
   "source": [
    "def get_completion(prompt, model=\"gpt-3.5-turbo\"):\n",
    "    messages = [{\"role\": \"user\", \"content\": prompt}]\n",
    "    response = openai.ChatCompletion.create(\n",
    "        model=model,\n",
    "        messages=messages,\n",
    "        temperature=0, # this is the degree of randomness of the model's output\n",
    "    )\n",
    "    return response.choices[0].message[\"content\"]"
   ]
  },
  {
   "cell_type": "code",
   "execution_count": 5,
   "metadata": {},
   "outputs": [],
   "source": [
    "url = input(\"Enter URL for recipe: \") "
   ]
  },
  {
   "cell_type": "code",
   "execution_count": 6,
   "metadata": {},
   "outputs": [
    {
     "name": "stdout",
     "output_type": "stream",
     "text": [
      "Apple Crisp Recipe\n",
      "Ingredients:\n",
      "- 6 cups sliced apples\n",
      "- 3/4 cup packed brown sugar\n",
      "- 1/2 cup all-purpose flour\n",
      "- 1/2 cup old-fashioned oats\n",
      "- 1/2 cup cold unsalted butter, cut into small pieces\n",
      "- 1 and 1/2 teaspoons ground cinnamon\n",
      "- 1/4 teaspoon salt\n",
      "\n",
      "Instructions:\n",
      "1. Preheat the oven to 350°F (175°C). Grease a 9x9-inch baking dish.\n",
      "2. In a large bowl, combine the sliced apples, brown sugar, flour, oats, butter, cinnamon, and salt. Mix until the apples are evenly coated and the mixture is crumbly.\n",
      "3. Transfer the apple mixture to the prepared baking dish and spread it out evenly.\n",
      "4. Bake for 40-45 minutes, or until the apples are tender and the topping is golden brown.\n",
      "5. Remove from the oven and let it cool for a few minutes before serving.\n",
      "6. Serve warm with a scoop of vanilla ice cream or whipped cream, if desired.\n",
      "\n",
      "Notes:\n",
      "For a variation, you can add a handful of chopped nuts or raisins to the apple mixture before baking. Enjoy this delicious apple crisp as a comforting dessert during the fall season! For the full recipe and more details, visit the website at the following URL: https://sallysbakingaddiction.com/apple-crisp/\n"
     ]
    }
   ],
   "source": [
    "#url = 'https://thehiddenveggies.com/silken-tofu-pasta-sauce/'\n",
    "text = f\"\"\"\n",
    "Visit the website at the following URL: {url}\n",
    "\"\"\"\n",
    "prompt = f\"\"\"\n",
    "From the text below, please understand it as an article that describes a recipe.  \n",
    "The first line should be: \"<recipe name>\". A new line will be inserted then the word \"Ingredients:\" \n",
    "followed by each line should contain one ingredient and its amount in the format\n",
    "\"<ingredient>: <amount>\". The ingredient part (before the semicolon) should contain only the ingredient name, not the amount.\n",
    "Next is the \"Instructions:\" section.  Each line should be a numbered list for each step.  And lastly, there may be a notes section. \n",
    "If there is, it should be titled \"Notes:\" with a paragraph after. \n",
    "Add another new line saying \"For the full recipe and more details, visit the website at the following URL:\" and follow with the \n",
    "url as a hyperlink.\n",
    "The text is: \n",
    "```{text}```\n",
    "\"\"\"\n",
    "response = get_completion(prompt)\n",
    "print(response)"
   ]
  },
  {
   "cell_type": "code",
   "execution_count": 7,
   "metadata": {},
   "outputs": [
    {
     "data": {
      "text/plain": [
       "'Apple Crisp Recipe\\nIngredients:\\n- 6 cups sliced apples\\n- 3/4 cup packed brown sugar\\n- 1/2 cup all-purpose flour\\n- 1/2 cup old-fashioned oats\\n- 1/2 cup cold unsalted butter, cut into small pieces\\n- 1 and 1/2 teaspoons ground cinnamon\\n- 1/4 teaspoon salt\\n\\nInstructions:\\n1. Preheat the oven to 350°F (175°C). Grease a 9x9-inch baking dish.\\n2. In a large bowl, combine the sliced apples, brown sugar, flour, oats, butter, cinnamon, and salt. Mix until the apples are evenly coated and the mixture is crumbly.\\n3. Transfer the apple mixture to the prepared baking dish and spread it out evenly.\\n4. Bake for 40-45 minutes, or until the apples are tender and the topping is golden brown.\\n5. Remove from the oven and let it cool for a few minutes before serving.\\n6. Serve warm with a scoop of vanilla ice cream or whipped cream, if desired.\\n\\nNotes:\\nFor a variation, you can add a handful of chopped nuts or raisins to the apple mixture before baking. Enjoy this delicious apple crisp as a comforting dessert during the fall season! For the full recipe and more details, visit the website at the following URL: https://sallysbakingaddiction.com/apple-crisp/'"
      ]
     },
     "execution_count": 7,
     "metadata": {},
     "output_type": "execute_result"
    }
   ],
   "source": [
    "response"
   ]
  },
  {
   "cell_type": "code",
   "execution_count": 8,
   "metadata": {},
   "outputs": [],
   "source": [
    "\n",
    "with open(os.path.join(\"/Users/melsmac/Desktop/Portfolio Proj/Cookbook/PrintedRecipes\",response.split('\\n')[0]+\".md\"), \"w\") as file:\n",
    "    file.write(response)\n",
    "    file.write(url)"
   ]
  },
  {
   "cell_type": "code",
   "execution_count": 2,
   "metadata": {},
   "outputs": [],
   "source": [
    "import requests\n",
    "from PIL import Image\n",
    "from io import BytesIO\n",
    "import openai\n",
    "\n",
    "def generate(text):\n",
    "    res = openai.Image.create(\n",
    "        prompt=text,\n",
    "        n=1,\n",
    "        size=\"256x256\",\n",
    "    )\n",
    "    # Check if the response contains a valid image URL\n",
    "    if \"data\" in res and res[\"data\"] and \"url\" in res[\"data\"][0]:\n",
    "        return res[\"data\"][0][\"url\"]\n",
    "    else:\n",
    "        return None\n",
    "\n",
    "# Call the custom function \"generate\"\n",
    "url1 = generate(\"women in 40's with yellow hair  and glasses who is outdoorsy and likes tech as avatar\")\n",
    "\n",
    "if url1:\n",
    "    # Use requests library to get the image in bytes\n",
    "    response = requests.get(url1)\n",
    "    try:\n",
    "        # Use the Image module from PIL library to view the image\n",
    "        img = Image.open(BytesIO(response.content))\n",
    "        img.show()\n",
    "    except UnidentifiedImageError as e:\n",
    "        print(f\"Error: Unable to open the image. The URL might not contain a valid image.\")\n",
    "else:\n",
    "    print(\"Error: The API response did not contain a valid image URL.\")\n"
   ]
  },
  {
   "cell_type": "code",
   "execution_count": null,
   "metadata": {},
   "outputs": [],
   "source": []
  }
 ],
 "metadata": {
  "kernelspec": {
   "display_name": "Python 3",
   "language": "python",
   "name": "python3"
  },
  "language_info": {
   "codemirror_mode": {
    "name": "ipython",
    "version": 3
   },
   "file_extension": ".py",
   "mimetype": "text/x-python",
   "name": "python",
   "nbconvert_exporter": "python",
   "pygments_lexer": "ipython3",
   "version": "3.11.4"
  }
 },
 "nbformat": 4,
 "nbformat_minor": 2
}
