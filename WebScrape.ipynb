{
 "cells": [
  {
   "cell_type": "code",
   "execution_count": 19,
   "metadata": {},
   "outputs": [],
   "source": [
    "\n",
    "import pandas as pd\n",
    "import requests \n",
    "from bs4 import BeautifulSoup \n",
    "import re\n",
    "  \n"
   ]
  },
  {
   "cell_type": "code",
   "execution_count": 9,
   "metadata": {},
   "outputs": [
    {
     "name": "stdout",
     "output_type": "stream",
     "text": [
      "\n",
      "5 from 22 votes\n",
      "\n",
      "\n",
      " Print Recipe\n",
      "\n",
      "Silken Tofu Pasta Sauce\n",
      "\n",
      "A rich and creamy vegan alfredo-style pasta sauce made from silken tofu.\n",
      "\n",
      "Prep Time10 minutes minsCook Time10 minutes minsTotal Time20 minutes mins\n",
      "\n",
      "Course: sauceCuisine: AmericanKeyword: silken tofu pasta sauce, tofu alfredo, tofu pasta sauce\n",
      "Servings: 8\n",
      "Calories: 291kcal\n",
      "Author: Monica Davis\n",
      "EquipmentBlender\n",
      "Ingredients1 (16 oz package) pastaSilken tofu pasta sauce1 (12.3 oz block) silken tofu1 medium onion (about 1 cup diced)3 cloves garlic3 tablespoons olive oil1 tablespoon nutritional yeast1 tablespoon lemon juice1 1/2 cups pasta water1 teaspoon salt (divided)1/4 teaspoon pepper (or red pepper flakes)US Customary - Metric\n",
      "InstructionsCook your pasta of choice according to package directions. (Reserve 1 1/2 cups of the cooking water.)While your pasta is cooking, peel and dice an onion and mince 3 cloves of garlic.  Then saute them over low heat in 3 tablespoons of olive oil with a sprinkle of salt (1/4 tsp) until they turn translucent.Cut open the package of silken tofu and drain off any excess water then add the tofu to the blender. (There is no need to press silken tofu.)  Then add the sauteed onion and garlic, 1 tbsp nutritional yeast, 1 tbsp lemon juice, 3/4 tsp salt, and 1/4 tsp pepper.Add 1 cup of the starchy pasta water to the blender and blend until smooth.  Add an additional 1/2 cup of the pasta water and blend again until very smooth.Pour the tofu cream sauce back into the frying pan used to saute the onions and warm it over low heat.  Add salt and pepper to taste.Toss in the cooked drained pasta and stir to coat the pasta in the sauce and serve hot. Garnish with fresh parsley if desired.\n",
      "Video\n",
      "Notes\n",
      "Saute the onion and garlic over low heat to bring out the sweetness of the onion and to ensure you don't burn them.\n",
      "The sauce will thicken slightly as it cools, so you want it to be fairly thin when it's hot.\n",
      "\n",
      "NutritionServing: 1cup pasta with sauce | Calories: 291kcal | Carbohydrates: 46g | Protein: 10g | Fat: 7g | Saturated Fat: 1g | Polyunsaturated Fat: 2g | Monounsaturated Fat: 4g | Sodium: 299mg | Potassium: 251mg | Fiber: 2g | Sugar: 3g | Vitamin A: 1IU | Vitamin C: 2mg | Calcium: 33mg | Iron: 1mg\n"
     ]
    }
   ],
   "source": [
    "import requests\n",
    "from bs4 import BeautifulSoup\n",
    "\n",
    "# Define the URL of the website you want to scrape\n",
    "url = 'https://thehiddenveggies.com/silken-tofu-pasta-sauce/'\n",
    "\n",
    "# Send an HTTP GET request to the URL\n",
    "response = requests.get(url)\n",
    "\n",
    "# Check if the request was successful (status code 200)\n",
    "if response.status_code == 200:\n",
    "    # Parse the HTML content of the page using BeautifulSoup\n",
    "    soup = BeautifulSoup(response.text, 'html.parser')\n",
    "\n",
    "    # Find the HTML element that contains the recipe section\n",
    "    # You will need to inspect the website's HTML structure to determine the appropriate tags and attributes\n",
    "    recipe_section = soup.find('div', class_='wprm-recipe-container')\n",
    "\n",
    "    if recipe_section:\n",
    "        # Extract and print the text from the recipe section\n",
    "        recipe_text = recipe_section.get_text()\n",
    "        print(recipe_text)\n",
    "    else:\n",
    "        print(\"Recipe section not found on the page.\")\n",
    "else:\n",
    "    print(f\"Failed to retrieve the webpage. Status code: {response.status_code}\")\n"
   ]
  },
  {
   "cell_type": "code",
   "execution_count": 13,
   "metadata": {},
   "outputs": [],
   "source": [
    "url = 'https://thehiddenveggies.com/silken-tofu-pasta-sauce/'\n",
    "soup = BeautifulSoup(requests.get(url).content, 'html.parser')"
   ]
  },
  {
   "cell_type": "code",
   "execution_count": 15,
   "metadata": {},
   "outputs": [
    {
     "name": "stdout",
     "output_type": "stream",
     "text": [
      "Silken Tofu Pasta Sauce\n"
     ]
    }
   ],
   "source": [
    "print(soup.find('h1').text)"
   ]
  },
  {
   "cell_type": "code",
   "execution_count": 21,
   "metadata": {},
   "outputs": [
    {
     "data": {
      "text/plain": [
       "re.compile(r'ingredient', re.UNICODE)"
      ]
     },
     "execution_count": 21,
     "metadata": {},
     "output_type": "execute_result"
    }
   ],
   "source": [
    "text=re.compile(\"ingredient\")\n",
    "text"
   ]
  },
  {
   "cell_type": "code",
   "execution_count": 23,
   "metadata": {},
   "outputs": [
    {
     "name": "stdout",
     "output_type": "stream",
     "text": [
      "[]\n"
     ]
    }
   ],
   "source": [
    "ingredients = []\n",
    "for li in soup.find_all('li',text=re.compile(\"ingredient\")):\n",
    "    ingred = ' '.join(li.text.split())\n",
    "    ingredients.append(ingred)\n",
    "print(ingredients)"
   ]
  },
  {
   "cell_type": "code",
   "execution_count": 24,
   "metadata": {},
   "outputs": [],
   "source": [
    "for li in soup.find_all('li',text=re.compile(\"ingredient\")):\n",
    "    print(li)"
   ]
  },
  {
   "cell_type": "code",
   "execution_count": 31,
   "metadata": {},
   "outputs": [
    {
     "data": {
      "text/plain": [
       "[<li class=\"wprm-recipe-ingredient\" data-uid=\"9\" style=\"list-style-type: disc;\"><span class=\"wprm-recipe-ingredient-amount\">1</span> <span class=\"wprm-recipe-ingredient-unit\">(16 oz package)</span> <span class=\"wprm-recipe-ingredient-name\">pasta</span></li>,\n",
       " <li class=\"wprm-recipe-ingredient\" data-uid=\"0\" style=\"list-style-type: disc;\"><span class=\"wprm-recipe-ingredient-amount\">1</span> <span class=\"wprm-recipe-ingredient-unit\">(12.3 oz block)</span> <span class=\"wprm-recipe-ingredient-name\"><a class=\"wprm-recipe-ingredient-link\" href=\"https://amzn.to/3Xte9q0\" rel=\"nofollow\" target=\"_blank\">silken tofu</a></span></li>,\n",
       " <li class=\"wprm-recipe-ingredient\" data-uid=\"1\" style=\"list-style-type: disc;\"><span class=\"wprm-recipe-ingredient-amount\">1</span> <span class=\"wprm-recipe-ingredient-unit\">medium</span> <span class=\"wprm-recipe-ingredient-name\">onion</span> <span class=\"wprm-recipe-ingredient-notes wprm-recipe-ingredient-notes-faded\">(about 1 cup diced)</span></li>,\n",
       " <li class=\"wprm-recipe-ingredient\" data-uid=\"2\" style=\"list-style-type: disc;\"><span class=\"wprm-recipe-ingredient-amount\">3</span> <span class=\"wprm-recipe-ingredient-unit\">cloves</span> <span class=\"wprm-recipe-ingredient-name\">garlic</span></li>,\n",
       " <li class=\"wprm-recipe-ingredient\" data-uid=\"3\" style=\"list-style-type: disc;\"><span class=\"wprm-recipe-ingredient-amount\">3</span> <span class=\"wprm-recipe-ingredient-unit\">tablespoons</span> <span class=\"wprm-recipe-ingredient-name\">olive oil</span></li>,\n",
       " <li class=\"wprm-recipe-ingredient\" data-uid=\"5\" style=\"list-style-type: disc;\"><span class=\"wprm-recipe-ingredient-amount\">1</span> <span class=\"wprm-recipe-ingredient-unit\">tablespoon</span> <span class=\"wprm-recipe-ingredient-name\"><a class=\"wprm-recipe-ingredient-link\" href=\"https://www.amazon.com/s?k=nutritional+yeast&amp;i=grocery&amp;crid=3QXJ0G7QUMDRM&amp;sprefix=nutri%2Cgrocery%2C75&amp;linkCode=ll2&amp;tag=thehiddenvegg-20&amp;linkId=a18d1355201d6575711dd017676d784b&amp;language=en_US&amp;ref_=as_li_ss_tl\" rel=\"nofollow\" target=\"_blank\">nutritional yeast</a></span></li>,\n",
       " <li class=\"wprm-recipe-ingredient\" data-uid=\"4\" style=\"list-style-type: disc;\"><span class=\"wprm-recipe-ingredient-amount\">1</span> <span class=\"wprm-recipe-ingredient-unit\">tablespoon</span> <span class=\"wprm-recipe-ingredient-name\">lemon juice</span></li>,\n",
       " <li class=\"wprm-recipe-ingredient\" data-uid=\"8\" style=\"list-style-type: disc;\"><span class=\"wprm-recipe-ingredient-amount\">1 1/2</span> <span class=\"wprm-recipe-ingredient-unit\">cups</span> <span class=\"wprm-recipe-ingredient-name\">pasta water</span></li>,\n",
       " <li class=\"wprm-recipe-ingredient\" data-uid=\"6\" style=\"list-style-type: disc;\"><span class=\"wprm-recipe-ingredient-amount\">1</span> <span class=\"wprm-recipe-ingredient-unit\">teaspoon</span> <span class=\"wprm-recipe-ingredient-name\">salt</span> <span class=\"wprm-recipe-ingredient-notes wprm-recipe-ingredient-notes-faded\">(divided)</span></li>,\n",
       " <li class=\"wprm-recipe-ingredient\" data-uid=\"7\" style=\"list-style-type: disc;\"><span class=\"wprm-recipe-ingredient-amount\">1/4</span> <span class=\"wprm-recipe-ingredient-unit\">teaspoon</span> <span class=\"wprm-recipe-ingredient-name\">pepper</span> <span class=\"wprm-recipe-ingredient-notes wprm-recipe-ingredient-notes-faded\">(or red pepper flakes)</span></li>]"
      ]
     },
     "execution_count": 31,
     "metadata": {},
     "output_type": "execute_result"
    }
   ],
   "source": [
    "soup.find_all('li','wprm-recipe-ingredient')"
   ]
  },
  {
   "cell_type": "code",
   "execution_count": null,
   "metadata": {},
   "outputs": [],
   "source": []
  }
 ],
 "metadata": {
  "kernelspec": {
   "display_name": "Python 3",
   "language": "python",
   "name": "python3"
  },
  "language_info": {
   "codemirror_mode": {
    "name": "ipython",
    "version": 3
   },
   "file_extension": ".py",
   "mimetype": "text/x-python",
   "name": "python",
   "nbconvert_exporter": "python",
   "pygments_lexer": "ipython3",
   "version": "3.8.5"
  }
 },
 "nbformat": 4,
 "nbformat_minor": 2
}
